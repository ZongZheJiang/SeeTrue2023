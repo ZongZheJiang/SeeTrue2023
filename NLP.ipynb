{
  "cells": [
    {
      "cell_type": "code",
      "execution_count": null,
      "metadata": {
        "id": "oVk9peY_8bgO"
      },
      "outputs": [],
      "source": [
        "# Install specific libraries\n",
        "! brew install cmake\n",
        "! pip install --upgrade setuptools wheel\n",
        "! pip install transformers\n",
        "! pip install pycaret\n",
        "! pip install lime"
      ]
    },
    {
      "cell_type": "code",
      "execution_count": 1,
      "metadata": {
        "colab": {
          "base_uri": "https://localhost:8080/"
        },
        "id": "2UFZhWTJ8oMI",
        "outputId": "2d3e2db5-b0d3-4b7b-af97-c42be0f02f4c"
      },
      "outputs": [
        {
          "name": "stderr",
          "output_type": "stream",
          "text": [
            "/Users/jiangzongzhe/anaconda3/lib/python3.11/site-packages/transformers/utils/generic.py:260: UserWarning: torch.utils._pytree._register_pytree_node is deprecated. Please use torch.utils._pytree.register_pytree_node instead.\n",
            "  torch.utils._pytree._register_pytree_node(\n",
            "/Users/jiangzongzhe/anaconda3/lib/python3.11/site-packages/transformers/utils/generic.py:260: UserWarning: torch.utils._pytree._register_pytree_node is deprecated. Please use torch.utils._pytree.register_pytree_node instead.\n",
            "  torch.utils._pytree._register_pytree_node(\n"
          ]
        },
        {
          "name": "stdout",
          "output_type": "stream",
          "text": [
            "No GPU available, using the CPU instead.\n"
          ]
        }
      ],
      "source": [
        "import numpy as np\n",
        "import pandas as pd\n",
        "# import pycaret\n",
        "import transformers\n",
        "from transformers import AutoModel, BertTokenizerFast, pipeline, DistilBertTokenizerFast, TFDistilBertModel, DistilBertConfig\n",
        "import matplotlib.pyplot as plt\n",
        "from sklearn.metrics import ConfusionMatrixDisplay\n",
        "from sklearn.model_selection import train_test_split\n",
        "from sklearn.metrics import classification_report\n",
        "import torch\n",
        "import torch.nn as nn\n",
        "import torch.nn.functional as F\n",
        "from lime.lime_text import LimeTextExplainer\n",
        "# specify GPU\n",
        "if torch.cuda.is_available():\n",
        "    device = torch.device(\"cuda\")\n",
        "    print(f'There are {torch.cuda.device_count()} GPU(s) available.')\n",
        "    print('Device name:', torch.cuda.get_device_name(0))\n",
        "\n",
        "else:\n",
        "    print('No GPU available, using the CPU instead.')\n",
        "    device = torch.device(\"cpu\")"
      ]
    },
    {
      "cell_type": "code",
      "execution_count": null,
      "metadata": {
        "colab": {
          "base_uri": "https://localhost:8080/",
          "height": 180
        },
        "id": "cA5wam7J8ptR",
        "outputId": "6ef04674-98f9-4347-954d-1a2160e262f3"
      },
      "outputs": [
        {
          "ename": "ModuleNotFoundError",
          "evalue": "No module named 'google.colab'",
          "output_type": "error",
          "traceback": [
            "\u001b[0;31m---------------------------------------------------------------------------\u001b[0m",
            "\u001b[0;31mModuleNotFoundError\u001b[0m                       Traceback (most recent call last)",
            "Cell \u001b[0;32mIn[2], line 2\u001b[0m\n\u001b[1;32m      1\u001b[0m \u001b[38;5;66;03m# Mount Google Drive - applicable, if working on Google Drive\u001b[39;00m\n\u001b[0;32m----> 2\u001b[0m \u001b[38;5;28;01mfrom\u001b[39;00m \u001b[38;5;21;01mgoogle\u001b[39;00m\u001b[38;5;21;01m.\u001b[39;00m\u001b[38;5;21;01mcolab\u001b[39;00m \u001b[38;5;28;01mimport\u001b[39;00m drive\n\u001b[1;32m      3\u001b[0m drive\u001b[38;5;241m.\u001b[39mmount(\u001b[38;5;124m'\u001b[39m\u001b[38;5;124m/content/drive\u001b[39m\u001b[38;5;124m'\u001b[39m)\n",
            "\u001b[0;31mModuleNotFoundError\u001b[0m: No module named 'google.colab'"
          ]
        }
      ],
      "source": [
        "# Mount Google Drive - applicable, if working on Google Drive\n",
        "from google.colab import drive\n",
        "drive.mount('/content/drive')"
      ]
    },
    {
      "cell_type": "code",
      "execution_count": 2,
      "metadata": {
        "colab": {
          "base_uri": "https://localhost:8080/"
        },
        "id": "d4HcRkRK8uOu",
        "outputId": "04750911-6fd5-41f3-9c88-1ce06e82db5d"
      },
      "outputs": [
        {
          "name": "stdout",
          "output_type": "stream",
          "text": [
            "[Errno 2] No such file or directory: '/content/drive/MyDrive/Colab_Notebooks/'\n",
            "/Users/jiangzongzhe\n"
          ]
        }
      ],
      "source": [
        "# Set Working Directory - if working on Google Drive\n",
        "%cd \"/content/drive/MyDrive/Colab_Notebooks/\"\n",
        "\n",
        "# # Set Working Directory - if working on Local Machine\n",
        "# import os\n",
        "# os.chdir('/Users//replace_me')"
      ]
    },
    {
      "cell_type": "code",
      "execution_count": null,
      "metadata": {
        "colab": {
          "base_uri": "https://localhost:8080/"
        },
        "id": "37l7O5eLU9bA",
        "outputId": "c8e385e6-b4ae-4a1c-a32c-26a3fe6d930e"
      },
      "outputs": [
        {
          "name": "stdout",
          "output_type": "stream",
          "text": [
            "\u001b[34mApplications\u001b[m\u001b[m    \u001b[34mDownloads\u001b[m\u001b[m       \u001b[34mMusic\u001b[m\u001b[m           \u001b[34mPycharmProjects\u001b[m\u001b[m\r\n",
            "\u001b[34mDesktop\u001b[m\u001b[m         \u001b[34mLibrary\u001b[m\u001b[m         \u001b[34mPictures\u001b[m\u001b[m        \u001b[34manaconda3\u001b[m\u001b[m\r\n",
            "\u001b[34mDocuments\u001b[m\u001b[m       \u001b[34mMovies\u001b[m\u001b[m          \u001b[34mPublic\u001b[m\u001b[m          \u001b[34mmyenv\u001b[m\u001b[m\r\n"
          ]
        }
      ],
      "source": [
        "!ls"
      ]
    },
    {
      "cell_type": "code",
      "execution_count": 3,
      "metadata": {
        "colab": {
          "base_uri": "https://localhost:8080/",
          "height": 242
        },
        "id": "tmtRCIkF8wrs",
        "outputId": "e6277fc6-38ef-4e78-b09e-1e68ad50cb32"
      },
      "outputs": [
        {
          "name": "stdout",
          "output_type": "stream",
          "text": [
            "(1102, 4)\n",
            "(2000, 3)\n"
          ]
        },
        {
          "data": {
            "text/html": [
              "<div>\n",
              "<style scoped>\n",
              "    .dataframe tbody tr th:only-of-type {\n",
              "        vertical-align: middle;\n",
              "    }\n",
              "\n",
              "    .dataframe tbody tr th {\n",
              "        vertical-align: top;\n",
              "    }\n",
              "\n",
              "    .dataframe thead th {\n",
              "        text-align: right;\n",
              "    }\n",
              "</style>\n",
              "<table border=\"1\" class=\"dataframe\">\n",
              "  <thead>\n",
              "    <tr style=\"text-align: right;\">\n",
              "      <th></th>\n",
              "      <th>nlp_title</th>\n",
              "      <th>nlp_text</th>\n",
              "      <th>nlp_comments</th>\n",
              "    </tr>\n",
              "  </thead>\n",
              "  <tbody>\n",
              "    <tr>\n",
              "      <th>0</th>\n",
              "      <td>so a***ton of cp and multiple illegal weapons ...</td>\n",
              "      <td>NaN</td>\n",
              "      <td>the man worked as a director on some bbc and c...</td>\n",
              "    </tr>\n",
              "    <tr>\n",
              "      <th>1</th>\n",
              "      <td>demo of the average brits understanding of 80k...</td>\n",
              "      <td>NaN</td>\n",
              "      <td>lots of people don't seem to understand that t...</td>\n",
              "    </tr>\n",
              "    <tr>\n",
              "      <th>2</th>\n",
              "      <td>please do adobe next.</td>\n",
              "      <td>NaN</td>\n",
              "      <td>if you can join something with a couple of cli...</td>\n",
              "    </tr>\n",
              "    <tr>\n",
              "      <th>3</th>\n",
              "      <td>private companies that spend billions on lobby...</td>\n",
              "      <td>NaN</td>\n",
              "      <td>yup california had a free online tax filing sy...</td>\n",
              "    </tr>\n",
              "    <tr>\n",
              "      <th>4</th>\n",
              "      <td>he is dead. his name was len sassaman</td>\n",
              "      <td>peope say he might sell his 1m coins one day b...</td>\n",
              "      <td>he might sell his 1m coins one day but dont y...</td>\n",
              "    </tr>\n",
              "  </tbody>\n",
              "</table>\n",
              "</div>"
            ],
            "text/plain": [
              "                                           nlp_title  \\\n",
              "0  so a***ton of cp and multiple illegal weapons ...   \n",
              "1  demo of the average brits understanding of 80k...   \n",
              "2                              please do adobe next.   \n",
              "3  private companies that spend billions on lobby...   \n",
              "4              he is dead. his name was len sassaman   \n",
              "\n",
              "                                            nlp_text  \\\n",
              "0                                                NaN   \n",
              "1                                                NaN   \n",
              "2                                                NaN   \n",
              "3                                                NaN   \n",
              "4  peope say he might sell his 1m coins one day b...   \n",
              "\n",
              "                                        nlp_comments  \n",
              "0  the man worked as a director on some bbc and c...  \n",
              "1  lots of people don't seem to understand that t...  \n",
              "2  if you can join something with a couple of cli...  \n",
              "3  yup california had a free online tax filing sy...  \n",
              "4   he might sell his 1m coins one day but dont y...  "
            ]
          },
          "execution_count": 3,
          "metadata": {},
          "output_type": "execute_result"
        }
      ],
      "source": [
        "# Load Dataset\n",
        "import csv\n",
        "data = pd.read_csv(\"Downloads/train.tsv\", header = 0, delimiter=\"\\t\", quoting=csv.QUOTE_NONE)\n",
        "data_test = pd.read_csv(\"Downloads/test.tsv\", header = 1, delimiter=\"\\t\", quoting=csv.QUOTE_NONE)\n",
        "\n",
        "# See how the data looks like\n",
        "print(data.shape)\n",
        "data.head()\n",
        "\n",
        "print(data_test.shape)\n",
        "data_test.head()"
      ]
    },
    {
      "cell_type": "code",
      "execution_count": 4,
      "metadata": {
        "id": "QPdlVnkn82II"
      },
      "outputs": [],
      "source": [
        "# Target column is made of string values Real/Fake, let's change it to numbers 0/1 (Fake=1)\n",
        "data = data.fillna(\"NIL\")\n",
        "data['label'] = pd.get_dummies(data.nlp_class)['real'].astype(int)\n",
        "\n",
        "# data_test = data_test.fillna(\"NIL\")\n",
        "# data_test['label'] = pd.get_dummies(data_test.nlp_title)['fake']"
      ]
    },
    {
      "cell_type": "code",
      "execution_count": 5,
      "metadata": {
        "colab": {
          "base_uri": "https://localhost:8080/",
          "height": 224
        },
        "id": "uAkSyHXF84uz",
        "outputId": "b21ba42b-ecdd-41ea-ee8f-c3e5b4e4d208"
      },
      "outputs": [
        {
          "name": "stdout",
          "output_type": "stream",
          "text": [
            "(1102, 5)\n"
          ]
        },
        {
          "data": {
            "text/html": [
              "<div>\n",
              "<style scoped>\n",
              "    .dataframe tbody tr th:only-of-type {\n",
              "        vertical-align: middle;\n",
              "    }\n",
              "\n",
              "    .dataframe tbody tr th {\n",
              "        vertical-align: top;\n",
              "    }\n",
              "\n",
              "    .dataframe thead th {\n",
              "        text-align: right;\n",
              "    }\n",
              "</style>\n",
              "<table border=\"1\" class=\"dataframe\">\n",
              "  <thead>\n",
              "    <tr style=\"text-align: right;\">\n",
              "      <th></th>\n",
              "      <th>nlp_title</th>\n",
              "      <th>nlp_text</th>\n",
              "      <th>nlp_comments</th>\n",
              "      <th>nlp_class</th>\n",
              "      <th>label</th>\n",
              "    </tr>\n",
              "  </thead>\n",
              "  <tbody>\n",
              "    <tr>\n",
              "      <th>0</th>\n",
              "      <td>attend a gp like that and see if you can sneak...</td>\n",
              "      <td>NIL</td>\n",
              "      <td>i dont understand your halloween costume eithe...</td>\n",
              "      <td>real</td>\n",
              "      <td>1</td>\n",
              "    </tr>\n",
              "    <tr>\n",
              "      <th>1</th>\n",
              "      <td>misleading title.</td>\n",
              "      <td>NIL</td>\n",
              "      <td>blaming the president for a software deficit. ...</td>\n",
              "      <td>fake</td>\n",
              "      <td>0</td>\n",
              "    </tr>\n",
              "    <tr>\n",
              "      <th>2</th>\n",
              "      <td>nah, thats still vegan</td>\n",
              "      <td>NIL</td>\n",
              "      <td>it just means it made in the same factory as o...</td>\n",
              "      <td>fake</td>\n",
              "      <td>0</td>\n",
              "    </tr>\n",
              "    <tr>\n",
              "      <th>3</th>\n",
              "      <td>confusing article. it starts out talk about do...</td>\n",
              "      <td>NIL</td>\n",
              "      <td>this entire article is basically the ceo sayin...</td>\n",
              "      <td>fake</td>\n",
              "      <td>0</td>\n",
              "    </tr>\n",
              "    <tr>\n",
              "      <th>4</th>\n",
              "      <td>ag barr just resigned as well.</td>\n",
              "      <td>NIL</td>\n",
              "      <td>i hope that biden does well for the same reaso...</td>\n",
              "      <td>real</td>\n",
              "      <td>1</td>\n",
              "    </tr>\n",
              "  </tbody>\n",
              "</table>\n",
              "</div>"
            ],
            "text/plain": [
              "                                           nlp_title nlp_text  \\\n",
              "0  attend a gp like that and see if you can sneak...      NIL   \n",
              "1                                  misleading title.      NIL   \n",
              "2                             nah, thats still vegan      NIL   \n",
              "3  confusing article. it starts out talk about do...      NIL   \n",
              "4                     ag barr just resigned as well.      NIL   \n",
              "\n",
              "                                        nlp_comments nlp_class  label  \n",
              "0  i dont understand your halloween costume eithe...      real      1  \n",
              "1  blaming the president for a software deficit. ...      fake      0  \n",
              "2  it just means it made in the same factory as o...      fake      0  \n",
              "3  this entire article is basically the ceo sayin...      fake      0  \n",
              "4  i hope that biden does well for the same reaso...      real      1  "
            ]
          },
          "execution_count": 5,
          "metadata": {},
          "output_type": "execute_result"
        }
      ],
      "source": [
        "print(data.shape)\n",
        "data.head()"
      ]
    },
    {
      "cell_type": "code",
      "execution_count": 6,
      "metadata": {
        "colab": {
          "base_uri": "https://localhost:8080/",
          "height": 513
        },
        "id": "Oh4Z6fpk87Hh",
        "outputId": "3c707d75-1d0a-46e1-fa98-76354a19c89b"
      },
      "outputs": [
        {
          "data": {
            "text/plain": [
              "([<matplotlib.patches.Wedge at 0x2902fe910>,\n",
              "  <matplotlib.patches.Wedge at 0x291ca44d0>],\n",
              " [Text(-1.1607184127205457, -0.3045205516406029, 'Fake'),\n",
              "  Text(1.1607184127205457, 0.3045205516406027, 'Real')],\n",
              " [Text(-0.6770857407536517, -0.1776369884570183, '58.2%'),\n",
              "  Text(0.6770857407536517, 0.17763698845701825, '41.8%')])"
            ]
          },
          "execution_count": 6,
          "metadata": {},
          "output_type": "execute_result"
        },
        {
          "data": {
            "image/png": "[encoded data removed]",
            "text/plain": [
              "<Figure size 640x480 with 1 Axes>"
            ]
          },
          "metadata": {},
          "output_type": "display_data"
        }
      ],
      "source": [
        "# Checking if our data is well balanced\n",
        "label_size = [data['label'].sum(),len(data['label'])-data['label'].sum()]\n",
        "plt.pie(label_size,explode=[0.1,0.1],colors=['firebrick','navy'],startangle=90,shadow=True,labels=['Fake','Real'],autopct='%1.1f%%')"
      ]
    },
    {
      "cell_type": "code",
      "execution_count": 7,
      "metadata": {
        "colab": {
          "base_uri": "https://localhost:8080/"
        },
        "id": "iUPwvP_589Nw",
        "outputId": "24ba6beb-b9b7-4e77-8822-edcaea892f38"
      },
      "outputs": [
        {
          "name": "stdout",
          "output_type": "stream",
          "text": [
            "663\n",
            "1102\n"
          ]
        }
      ],
      "source": [
        "# Train-Validation set split into 80:20 ratio\n",
        "\n",
        "# Train-Validation split\n",
        "train_text_1, val_text_1, train_labels_1, val_labels_1 = train_test_split(data['nlp_title'], data['label'],\n",
        "                                                                    random_state=2018,\n",
        "                                                                    test_size=0.2,\n",
        "                                                                    stratify=data['label'])\n",
        "\n",
        "train_text_2, val_text_2, train_labels_2, val_labels_2 = train_test_split(data['nlp_comments'], data['label'],\n",
        "                                                                    random_state=2018,\n",
        "                                                                    test_size=0.2,\n",
        "                                                                    stratify=data['label'])\n",
        "\n",
        "train_text_3, val_text_3, train_labels_3, val_labels_3 = train_test_split(data['nlp_text'], data['label'],\n",
        "                                                                    random_state=2018,\n",
        "                                                                    test_size=0.2,\n",
        "                                                                    stratify=data['label'])\n",
        "\n",
        "\n",
        "\n",
        "train_text = pd.concat([train_text_1, train_text_2, train_text_3], ignore_index=True)\n",
        "val_text = pd.concat([val_text_1, val_text_2, val_text_3], ignore_index=True)\n",
        "train_labels = pd.concat([train_labels_1, train_labels_2, train_labels_3], ignore_index=True)\n",
        "val_labels = pd.concat([val_labels_1, val_labels_2, val_labels_3], ignore_index=True)\n",
        "\n",
        "test_text_1 = data['nlp_title']\n",
        "test_text_2 = data['nlp_text']\n",
        "test_text_3 = data['nlp_comments']\n",
        "\n",
        "test_labels_1 = data['label']\n",
        "\n",
        "\n",
        "\n",
        "\n",
        "print(len(val_labels))\n",
        "print(len(test_labels_1))\n",
        "\n",
        "\n",
        "\n",
        "# Validation-Test split\n",
        "# val_text, test_text, val_labels, test_labels = train_test_split(temp_text, temp_labels,\n",
        "#                                                                 random_state=2018,\n",
        "#                                                                 test_size=0.5,\n",
        "#                                                                 stratify=temp_labels)"
      ]
    },
    {
      "cell_type": "code",
      "execution_count": 8,
      "metadata": {
        "id": "Td9d41AR8_hv"
      },
      "outputs": [],
      "source": [
        "# Load BERT model and tokenizer via HuggingFace Transformers https://huggingface.co/models\n",
        "bert = AutoModel.from_pretrained('distilbert-base-uncased')\n",
        "tokenizer = DistilBertTokenizerFast.from_pretrained('distilbert-base-uncased')"
      ]
    },
    {
      "cell_type": "code",
      "execution_count": 9,
      "metadata": {
        "colab": {
          "base_uri": "https://localhost:8080/"
        },
        "id": "Ai-93-N_9B7q",
        "outputId": "4a8a1c92-ec36-49f0-df05-28724e1a06ee"
      },
      "outputs": [
        {
          "name": "stdout",
          "output_type": "stream",
          "text": [
            "tokens:       ['snow', '##board', 'snow', '##ball', 'snow', '##man', '.']\n",
            "{'input_ids': [[101, 4586, 6277, 4586, 7384, 4586, 2386, 1012, 102]], 'attention_mask': [[1, 1, 1, 1, 1, 1, 1, 1, 1]]}\n",
            "tokens:       ['sub', '##class', 'sub', '##rent', '.']\n",
            "{'input_ids': [[101, 4942, 26266, 4942, 22787, 1012, 102]], 'attention_mask': [[1, 1, 1, 1, 1, 1, 1]]}\n"
          ]
        }
      ],
      "source": [
        "# BERT Tokenizer Functionality\n",
        "# 1. Start token is 101, End token is 102\n",
        "# 2. Certain words are break up into sub words e.g. subword is broken into sub ##word\n",
        "samples = [\"snowboard snowball snowman.\",\n",
        "           \"subclass subrent.\"]\n",
        "\n",
        "for sample in samples:\n",
        "  tokens = tokenizer.tokenize(sample)\n",
        "  print(\"tokens:      \", tokens)\n",
        "  tokenized_sample = tokenizer.batch_encode_plus(\n",
        "      [sample],\n",
        "      max_length = 10,\n",
        "      padding=True,\n",
        "      truncation=True\n",
        "  )\n",
        "  print(tokenized_sample)\n",
        "\n",
        "# Ref: https://huggingface.co/docs/transformers/preprocessing"
      ]
    },
    {
      "cell_type": "code",
      "execution_count": 10,
      "metadata": {
        "colab": {
          "base_uri": "https://localhost:8080/",
          "height": 467
        },
        "id": "Xb9FUtMn9Egt",
        "outputId": "dde783fe-d1ab-45d6-fd8e-a53bc2e99bc4"
      },
      "outputs": [
        {
          "data": {
            "text/plain": [
              "Text(0, 0.5, 'Number of texts')"
            ]
          },
          "execution_count": 10,
          "metadata": {},
          "output_type": "execute_result"
        },
        {
          "data": {
            "image/png": "[encoded data removed]",
            "text/plain": [
              "<Figure size 640x480 with 1 Axes>"
            ]
          },
          "metadata": {},
          "output_type": "display_data"
        }
      ],
      "source": [
        "# Plot histogram of the number of words in train data 'title'\n",
        "seq_len = [len(title.split()) for title in train_text]\n",
        "\n",
        "pd.Series(seq_len).hist(bins = 40,color='firebrick')\n",
        "plt.xlabel('Number of Words')\n",
        "plt.ylabel('Number of texts')"
      ]
    },
    {
      "cell_type": "code",
      "execution_count": 11,
      "metadata": {
        "colab": {
          "base_uri": "https://localhost:8080/"
        },
        "id": "jEkobl5s9JUg",
        "outputId": "1966689c-1873-46a3-e3dd-3575838f3cd1"
      },
      "outputs": [
        {
          "name": "stderr",
          "output_type": "stream",
          "text": [
            "/Users/jiangzongzhe/anaconda3/lib/python3.11/site-packages/transformers/tokenization_utils_base.py:2418: FutureWarning: The `pad_to_max_length` argument is deprecated and will be removed in a future version, use `padding=True` or `padding='longest'` to pad to the longest sequence in the batch, or use `padding='max_length'` to pad to a max length. In this case, you can give a specific length with `max_length` (e.g. `max_length=45`) or leave max_length to None to pad to the maximal input size of the model (e.g. 512 for Bert).\n",
            "  warnings.warn(\n"
          ]
        }
      ],
      "source": [
        "# Majority of titles above have word length under 15. So, we set max title length as 15\n",
        "MAX_LENGTH = 200\n",
        "# Tokenize and encode sequences in the train set\n",
        "tokens_train = tokenizer.batch_encode_plus(\n",
        "    train_text.tolist(),\n",
        "    max_length = MAX_LENGTH,\n",
        "    pad_to_max_length=True,\n",
        "    truncation=True\n",
        ")\n",
        "# tokenize and encode sequences in the validation set\n",
        "tokens_val = tokenizer.batch_encode_plus(\n",
        "    val_text.tolist(),\n",
        "    max_length = MAX_LENGTH,\n",
        "    pad_to_max_length=True,\n",
        "    truncation=True\n",
        ")\n",
        "\n",
        "tokens_test_1 = tokenizer.batch_encode_plus(\n",
        "    test_text_1.tolist(),\n",
        "    max_length = MAX_LENGTH,\n",
        "    pad_to_max_length=True,\n",
        "    truncation=True\n",
        ")\n",
        "\n",
        "# tokenize and encode sequences in the test set\n",
        "# tokens_test = tokenizer.batch_encode_plus(\n",
        "#     test_text.tolist(),\n",
        "#     max_length = MAX_LENGTH,\n",
        "#     pad_to_max_length=True,\n",
        "#     truncation=True\n",
        "# )"
      ]
    },
    {
      "cell_type": "code",
      "execution_count": 12,
      "metadata": {
        "id": "6gmMFW6j9LfR"
      },
      "outputs": [],
      "source": [
        "# Convert lists to tensors\n",
        "train_seq = torch.tensor(tokens_train['input_ids'])\n",
        "train_mask = torch.tensor(tokens_train['attention_mask'])\n",
        "train_y = torch.tensor(train_labels.tolist())\n",
        "\n",
        "val_seq = torch.tensor(tokens_val['input_ids'])\n",
        "val_mask = torch.tensor(tokens_val['attention_mask'])\n",
        "val_y = torch.tensor(val_labels.tolist())\n",
        "\n",
        "test_1_seq = torch.tensor(tokens_test_1['input_ids']).to(device)\n",
        "test_1_mask = torch.tensor(tokens_test_1['attention_mask']).to(device)\n",
        "test_1_y = torch.tensor(test_labels_1).to(device)\n",
        "\n",
        "# test_seq = torch.tensor(tokens_test['input_ids']).to(device)\n",
        "# test_mask = torch.tensor(tokens_test['attention_mask']).to(device)\n",
        "# test_y = torch.tensor(test_labels.tolist()).to(device)"
      ]
    },
    {
      "cell_type": "code",
      "execution_count": 13,
      "metadata": {
        "id": "-EBVlArVC-pK"
      },
      "outputs": [],
      "source": [
        "# Data Loader structure definition\n",
        "from torch.utils.data import TensorDataset, DataLoader, RandomSampler, SequentialSampler\n",
        "batch_size = 5                                               #define a batch size\n",
        "\n",
        "train_data = TensorDataset(train_seq, train_mask, train_y)    # wrap tensors\n",
        "train_sampler = RandomSampler(train_data)                     # sampler for sampling the data during training\n",
        "train_dataloader = DataLoader(train_data, sampler=train_sampler, batch_size=batch_size)\n",
        "                                                              # dataLoader for train set\n",
        "val_data = TensorDataset(val_seq, val_mask, val_y)            # wrap tensors\n",
        "val_sampler = SequentialSampler(val_data)                     # sampler for sampling the data during training\n",
        "val_dataloader = DataLoader(val_data, sampler = val_sampler, batch_size=batch_size)\n",
        "                                                              # dataLoader for validation set\n",
        "\n",
        "test_1_data = TensorDataset(test_1_seq, test_1_mask, test_1_y)\n",
        "test_1_sampler = SequentialSampler(test_1_data)\n",
        "test_1_dataloader = DataLoader(test_1_data, sampler = test_1_sampler, batch_size=1)"
      ]
    },
    {
      "cell_type": "code",
      "execution_count": 14,
      "metadata": {
        "id": "ZXnlCJjJEE-t"
      },
      "outputs": [],
      "source": [
        "# Freezing the parameters and defining trainable BERT structure\n",
        "for param in bert.parameters():\n",
        "    param.requires_grad = False    # false here means gradient need not be computed"
      ]
    },
    {
      "cell_type": "code",
      "execution_count": 18,
      "metadata": {
        "id": "NS1FjJMwEJrP"
      },
      "outputs": [],
      "source": [
        "class BERT_Arch(nn.Module):\n",
        "    def __init__(self, bert):\n",
        "      super(BERT_Arch, self).__init__()\n",
        "      self.bert = bert\n",
        "      self.dropout = nn.Dropout(0.15)           # dropout layer\n",
        "      self.relu =  nn.ReLU()                    # relu activation function\n",
        "      self.fc1 = nn.Linear(768,512)             # dense layer 1\n",
        "      self.fc2 = nn.Linear(512,2)               # dense layer 2 (Output layer)\n",
        "      self.softmax = nn.LogSoftmax(dim=1)       # softmax activation function\n",
        "    def forward(self, sent_id, mask):           # define the forward pass\n",
        "      cls_hs = self.bert(sent_id, attention_mask=mask).last_hidden_state[:, 0, :]\n",
        "                                                # pass the inputs to the model\n",
        "      x = self.fc1(cls_hs)\n",
        "      x = self.relu(x)\n",
        "      x = self.dropout(x)\n",
        "      x = self.fc2(x)                           # output layer\n",
        "      x = self.softmax(x)                       # apply softmax activation\n",
        "      return x\n",
        "\n",
        "model = BERT_Arch(bert)\n",
        "model = model.cpu()\n",
        "# Defining the hyperparameters (optimizer, weights of the classes and the epochs)\n",
        "# Define the optimizer\n",
        "from torch.optim import AdamW\n",
        "optimizer = AdamW(model.parameters(),\n",
        "                  lr = 1e-5)          # learning rate\n",
        "# Define the loss function\n",
        "cross_entropy  = nn.NLLLoss()\n",
        "# Number of training epochs\n",
        "epochs = 10"
      ]
    },
    {
      "cell_type": "code",
      "execution_count": 25,
      "metadata": {
        "id": "Ol-WKC7adeOy"
      },
      "outputs": [],
      "source": [
        "epochs = 2"
      ]
    },
    {
      "cell_type": "code",
      "execution_count": 16,
      "metadata": {
        "id": "Qv5fzXtKEMEb"
      },
      "outputs": [],
      "source": [
        "# Defining training and evaluation functions\n",
        "def train():\n",
        "  model.train()\n",
        "  total_loss, total_accuracy = 0, 0\n",
        "\n",
        "  for step,batch in enumerate(train_dataloader):                # iterate over batches\n",
        "    if step % 50 == 0 and not step == 0:                        # progress update after every 50 batches.\n",
        "      print('  Batch {:>5,}  of  {:>5,}.'.format(step, len(train_dataloader)))\n",
        "    batch = [r.to(device) for r in batch]                       # push the batch to gpu\n",
        "    sent_id, mask, labels = batch\n",
        "    model.zero_grad()                                           # clear previously calculated gradients\n",
        "    preds = model(sent_id, mask)                                # get model predictions for current batch\n",
        "    loss = cross_entropy(preds, labels.long())                  # compute loss between actual & predicted values\n",
        "    total_loss = total_loss + loss.item()                       # add on to the total loss\n",
        "    loss.backward()                                             # backward pass to calculate the gradients\n",
        "    torch.nn.utils.clip_grad_norm_(model.parameters(), 1.0)     # clip gradients to 1.0. It helps in preventing exploding gradient problem\n",
        "    optimizer.step()                                            # update parameters\n",
        "    preds=preds.detach().cpu().numpy()                          # model predictions are stored on GPU. So, push it to CPU\n",
        "\n",
        "  avg_loss = total_loss / len(train_dataloader)                 # compute training loss of the epoch\n",
        "                                                                # reshape predictions in form of (# samples, # classes)\n",
        "  return avg_loss                                 # returns the loss and predictions\n",
        "\n",
        "def evaluate():\n",
        "  print(\"\\nEvaluating...\")\n",
        "  model.eval()                                    # Deactivate dropout layers\n",
        "  total_loss, total_accuracy = 0, 0\n",
        "  for step,batch in enumerate(val_dataloader):    # Iterate over batches\n",
        "    if step % 50 == 0 and not step == 0:          # Progress update every 50 batches.\n",
        "                                                  # Calculate elapsed time in minutes.\n",
        "                                                  # Elapsed = format_time(time.time() - t0)\n",
        "      print('  Batch {:>5,}  of  {:>5,}.'.format(step, len(val_dataloader)))\n",
        "                                                  # Report progress\n",
        "    batch = [t.to(device) for t in batch]         # Push the batch to GPU\n",
        "    sent_id, mask, labels = batch\n",
        "    with torch.no_grad():                         # Deactivate autograd\n",
        "      preds = model(sent_id, mask)                # Model predictions\n",
        "      loss = cross_entropy(preds,labels.long())   # Compute the validation loss between actual and predicted values\n",
        "      total_loss = total_loss + loss.item()\n",
        "      preds = preds.detach().cpu().numpy()\n",
        "  avg_loss = total_loss / len(val_dataloader)     # compute the validation loss of the epoch\n",
        "  return avg_loss"
      ]
    },
    {
      "cell_type": "code",
      "execution_count": 26,
      "metadata": {
        "colab": {
          "base_uri": "https://localhost:8080/"
        },
        "id": "g10rt1WXEQPO",
        "outputId": "6d894489-92b2-4567-97a5-4f7c6d3f8115"
      },
      "outputs": [
        {
          "name": "stdout",
          "output_type": "stream",
          "text": [
            "\n",
            " Epoch 1 / 2\n",
            "  Batch    50  of    529.\n",
            "  Batch   100  of    529.\n",
            "  Batch   150  of    529.\n",
            "  Batch   200  of    529.\n",
            "  Batch   250  of    529.\n",
            "  Batch   300  of    529.\n",
            "  Batch   350  of    529.\n",
            "  Batch   400  of    529.\n",
            "  Batch   450  of    529.\n",
            "  Batch   500  of    529.\n",
            "\n",
            "Evaluating...\n",
            "  Batch    50  of    133.\n",
            "  Batch   100  of    133.\n",
            "\n",
            "Training Loss: 0.611\n",
            "Validation Loss: 0.599\n",
            "\n",
            " Epoch 2 / 2\n",
            "  Batch    50  of    529.\n",
            "  Batch   100  of    529.\n",
            "  Batch   150  of    529.\n",
            "  Batch   200  of    529.\n",
            "  Batch   250  of    529.\n",
            "  Batch   300  of    529.\n",
            "  Batch   350  of    529.\n",
            "  Batch   400  of    529.\n",
            "  Batch   450  of    529.\n",
            "  Batch   500  of    529.\n",
            "\n",
            "Evaluating...\n",
            "  Batch    50  of    133.\n",
            "  Batch   100  of    133.\n",
            "\n",
            "Training Loss: 0.611\n",
            "Validation Loss: 0.601\n"
          ]
        }
      ],
      "source": [
        "# Train and predict (OPTIONAL)\n",
        "best_valid_loss = float('inf')\n",
        "train_losses=[]                                   # empty lists to store training and validation loss of each epoch\n",
        "valid_losses=[]\n",
        "\n",
        "for epoch in range(epochs):\n",
        "    print('\\n Epoch {:} / {:}'.format(epoch + 1, epochs))\n",
        "    train_loss = train()                          # train model\n",
        "    valid_loss = evaluate()                       # evaluate model\n",
        "    if valid_loss < best_valid_loss:              # save the best model\n",
        "        best_valid_loss = valid_loss\n",
        "        torch.save(model.state_dict(), 'new_model_weights.pt')\n",
        "    train_losses.append(train_loss)               # append training and validation loss\n",
        "    valid_losses.append(valid_loss)\n",
        "\n",
        "    print(f'\\nTraining Loss: {train_loss:.3f}')\n",
        "    print(f'Validation Loss: {valid_loss:.3f}')"
      ]
    },
    {
      "cell_type": "code",
      "execution_count": 30,
      "metadata": {
        "id": "_S9HEibbEjzl"
      },
      "outputs": [],
      "source": [
        "# save weights of trained model (OPTIONAL)\n",
        "path = 'fakenews_weights.pt'\n",
        "torch.save(model.state_dict(), path)"
      ]
    },
    {
      "cell_type": "code",
      "execution_count": 28,
      "metadata": {
        "colab": {
          "base_uri": "https://localhost:8080/"
        },
        "id": "q-xr_U2SEmpL",
        "outputId": "f636c232-ae28-42ed-bf6f-5df5f4aab919"
      },
      "outputs": [
        {
          "name": "stdout",
          "output_type": "stream",
          "text": [
            "              precision    recall  f1-score   support\n",
            "\n",
            "           0       0.74      0.53      0.62       461\n",
            "           1       0.72      0.86      0.79       641\n",
            "\n",
            "    accuracy                           0.73      1102\n",
            "   macro avg       0.73      0.70      0.70      1102\n",
            "weighted avg       0.73      0.73      0.72      1102\n",
            "\n"
          ]
        }
      ],
      "source": [
        "with torch.no_grad():\n",
        "  preds = model(test_1_seq, test_1_mask)\n",
        "  preds = preds.detach().cpu().numpy()\n",
        "\n",
        "preds = np.argmax(preds, axis = 1)\n",
        "print(classification_report(test_1_y.cpu(), preds))"
      ]
    },
    {
      "cell_type": "code",
      "execution_count": 31,
      "metadata": {
        "colab": {
          "base_uri": "https://localhost:8080/"
        },
        "id": "WKhpSFgVcIU_",
        "outputId": "e74386e0-26bb-40dd-80d0-0f702e324876"
      },
      "outputs": [
        {
          "data": {
            "text/plain": [
              "<All keys matched successfully>"
            ]
          },
          "execution_count": 31,
          "metadata": {},
          "output_type": "execute_result"
        }
      ],
      "source": [
        "path = 'fakenews_weights.pt'\n",
        "model.load_state_dict(torch.load(path))"
      ]
    },
    {
      "cell_type": "code",
      "execution_count": null,
      "metadata": {
        "colab": {
          "base_uri": "https://localhost:8080/",
          "height": 664
        },
        "id": "tgIPE0w5mBWa",
        "outputId": "de4fa3e8-0265-4181-95f0-c7122d5f4e2a"
      },
      "outputs": [
        {
          "data": {
            "application/vnd.google.colaboratory.intrinsic+json": {
              "type": "string"
            },
            "text/plain": [
              "'|===========================================================================|\\n|                  PyTorch CUDA memory summary, device ID 0                 |\\n|---------------------------------------------------------------------------|\\n|            CUDA OOMs: 3            |        cudaMalloc retries: 4         |\\n|===========================================================================|\\n|        Metric         | Cur Usage  | Peak Usage | Tot Alloc  | Tot Freed  |\\n|---------------------------------------------------------------------------|\\n| Allocated memory      |   4972 MiB |  14641 MiB |   4515 GiB |   4511 GiB |\\n|       from large pool |   4971 MiB |  14639 MiB |   4314 GiB |   4309 GiB |\\n|       from small pool |      0 MiB |      1 MiB |    201 GiB |    201 GiB |\\n|---------------------------------------------------------------------------|\\n| Active memory         |   4972 MiB |  14641 MiB |   4515 GiB |   4511 GiB |\\n|       from large pool |   4971 MiB |  14639 MiB |   4314 GiB |   4309 GiB |\\n|       from small pool |      0 MiB |      1 MiB |    201 GiB |    201 GiB |\\n|---------------------------------------------------------------------------|\\n| Requested memory      |   4969 MiB |  14638 MiB |   4486 GiB |   4481 GiB |\\n|       from large pool |   4968 MiB |  14636 MiB |   4284 GiB |   4279 GiB |\\n|       from small pool |      0 MiB |      1 MiB |    201 GiB |    201 GiB |\\n|---------------------------------------------------------------------------|\\n| GPU reserved memory   |  12032 MiB |  14844 MiB |  26564 MiB |  14532 MiB |\\n|       from large pool |  12030 MiB |  14842 MiB |  26562 MiB |  14532 MiB |\\n|       from small pool |      2 MiB |      2 MiB |      2 MiB |      0 MiB |\\n|---------------------------------------------------------------------------|\\n| Non-releasable memory |   1199 MiB |   4715 MiB |  35852 GiB |  35851 GiB |\\n|       from large pool |   1198 MiB |   4714 MiB |  35650 GiB |  35649 GiB |\\n|       from small pool |      1 MiB |      1 MiB |    201 GiB |    201 GiB |\\n|---------------------------------------------------------------------------|\\n| Allocations           |     126    |     155    |    1207 K  |    1207 K  |\\n|       from large pool |      50    |      69    |     704 K  |     703 K  |\\n|       from small pool |      76    |      94    |     503 K  |     503 K  |\\n|---------------------------------------------------------------------------|\\n| Active allocs         |     126    |     155    |    1207 K  |    1207 K  |\\n|       from large pool |      50    |      69    |     704 K  |     703 K  |\\n|       from small pool |      76    |      94    |     503 K  |     503 K  |\\n|---------------------------------------------------------------------------|\\n| GPU reserved segments |      17    |      29    |      33    |      16    |\\n|       from large pool |      16    |      28    |      32    |      16    |\\n|       from small pool |       1    |       1    |       1    |       0    |\\n|---------------------------------------------------------------------------|\\n| Non-releasable allocs |      14    |      24    |  609053    |  609039    |\\n|       from large pool |       9    |      19    |  490631    |  490622    |\\n|       from small pool |       5    |       8    |  118422    |  118417    |\\n|---------------------------------------------------------------------------|\\n| Oversize allocations  |       0    |       0    |       0    |       0    |\\n|---------------------------------------------------------------------------|\\n| Oversize GPU segments |       0    |       0    |       0    |       0    |\\n|===========================================================================|\\n'"
            ]
          },
          "execution_count": 32,
          "metadata": {},
          "output_type": "execute_result"
        }
      ],
      "source": [
        "torch.cuda.empty_cache()\n",
        "import gc\n",
        "gc.collect()\n",
        "torch.cuda.memory_summary(device=None, abbreviated=False)"
      ]
    },
    {
      "cell_type": "code",
      "execution_count": null,
      "metadata": {
        "colab": {
          "base_uri": "https://localhost:8080/",
          "height": 333
        },
        "id": "1BERUdnHStMQ",
        "outputId": "ec6952e5-243c-4d4e-c0a5-c35d85cacd75"
      },
      "outputs": [
        {
          "ename": "RuntimeError",
          "evalue": "Found no NVIDIA driver on your system. Please check that you have an NVIDIA GPU and installed a driver from http://www.nvidia.com/Download/index.aspx",
          "output_type": "error",
          "traceback": [
            "\u001b[0;31m---------------------------------------------------------------------------\u001b[0m",
            "\u001b[0;31mRuntimeError\u001b[0m                              Traceback (most recent call last)",
            "\u001b[0;32m<ipython-input-1-5a4ba25279ae>\u001b[0m in \u001b[0;36m<cell line: 7>\u001b[0;34m()\u001b[0m\n\u001b[1;32m      5\u001b[0m \u001b[0;32mimport\u001b[0m \u001b[0mtorch\u001b[0m\u001b[0;34m\u001b[0m\u001b[0;34m\u001b[0m\u001b[0m\n\u001b[1;32m      6\u001b[0m \u001b[0mtorch\u001b[0m\u001b[0;34m.\u001b[0m\u001b[0mcuda\u001b[0m\u001b[0;34m.\u001b[0m\u001b[0mempty_cache\u001b[0m\u001b[0;34m(\u001b[0m\u001b[0;34m)\u001b[0m\u001b[0;34m\u001b[0m\u001b[0;34m\u001b[0m\u001b[0m\n\u001b[0;32m----> 7\u001b[0;31m \u001b[0mtorch\u001b[0m\u001b[0;34m.\u001b[0m\u001b[0mcuda\u001b[0m\u001b[0;34m.\u001b[0m\u001b[0mget_device_name\u001b[0m\u001b[0;34m(\u001b[0m\u001b[0;36m0\u001b[0m\u001b[0;34m)\u001b[0m\u001b[0;34m\u001b[0m\u001b[0;34m\u001b[0m\u001b[0m\n\u001b[0m",
            "\u001b[0;32m/usr/local/lib/python3.10/dist-packages/torch/cuda/__init__.py\u001b[0m in \u001b[0;36mget_device_name\u001b[0;34m(device)\u001b[0m\n\u001b[1;32m    417\u001b[0m         \u001b[0mstr\u001b[0m\u001b[0;34m:\u001b[0m \u001b[0mthe\u001b[0m \u001b[0mname\u001b[0m \u001b[0mof\u001b[0m \u001b[0mthe\u001b[0m \u001b[0mdevice\u001b[0m\u001b[0;34m\u001b[0m\u001b[0;34m\u001b[0m\u001b[0m\n\u001b[1;32m    418\u001b[0m     \"\"\"\n\u001b[0;32m--> 419\u001b[0;31m     \u001b[0;32mreturn\u001b[0m \u001b[0mget_device_properties\u001b[0m\u001b[0;34m(\u001b[0m\u001b[0mdevice\u001b[0m\u001b[0;34m)\u001b[0m\u001b[0;34m.\u001b[0m\u001b[0mname\u001b[0m\u001b[0;34m\u001b[0m\u001b[0;34m\u001b[0m\u001b[0m\n\u001b[0m\u001b[1;32m    420\u001b[0m \u001b[0;34m\u001b[0m\u001b[0m\n\u001b[1;32m    421\u001b[0m \u001b[0;34m\u001b[0m\u001b[0m\n",
            "\u001b[0;32m/usr/local/lib/python3.10/dist-packages/torch/cuda/__init__.py\u001b[0m in \u001b[0;36mget_device_properties\u001b[0;34m(device)\u001b[0m\n\u001b[1;32m    447\u001b[0m         \u001b[0m_CudaDeviceProperties\u001b[0m\u001b[0;34m:\u001b[0m \u001b[0mthe\u001b[0m \u001b[0mproperties\u001b[0m \u001b[0mof\u001b[0m \u001b[0mthe\u001b[0m \u001b[0mdevice\u001b[0m\u001b[0;34m\u001b[0m\u001b[0;34m\u001b[0m\u001b[0m\n\u001b[1;32m    448\u001b[0m     \"\"\"\n\u001b[0;32m--> 449\u001b[0;31m     \u001b[0m_lazy_init\u001b[0m\u001b[0;34m(\u001b[0m\u001b[0;34m)\u001b[0m  \u001b[0;31m# will define _get_device_properties\u001b[0m\u001b[0;34m\u001b[0m\u001b[0;34m\u001b[0m\u001b[0m\n\u001b[0m\u001b[1;32m    450\u001b[0m     \u001b[0mdevice\u001b[0m \u001b[0;34m=\u001b[0m \u001b[0m_get_device_index\u001b[0m\u001b[0;34m(\u001b[0m\u001b[0mdevice\u001b[0m\u001b[0;34m,\u001b[0m \u001b[0moptional\u001b[0m\u001b[0;34m=\u001b[0m\u001b[0;32mTrue\u001b[0m\u001b[0;34m)\u001b[0m\u001b[0;34m\u001b[0m\u001b[0;34m\u001b[0m\u001b[0m\n\u001b[1;32m    451\u001b[0m     \u001b[0;32mif\u001b[0m \u001b[0mdevice\u001b[0m \u001b[0;34m<\u001b[0m \u001b[0;36m0\u001b[0m \u001b[0;32mor\u001b[0m \u001b[0mdevice\u001b[0m \u001b[0;34m>=\u001b[0m \u001b[0mdevice_count\u001b[0m\u001b[0;34m(\u001b[0m\u001b[0;34m)\u001b[0m\u001b[0;34m:\u001b[0m\u001b[0;34m\u001b[0m\u001b[0;34m\u001b[0m\u001b[0m\n",
            "\u001b[0;32m/usr/local/lib/python3.10/dist-packages/torch/cuda/__init__.py\u001b[0m in \u001b[0;36m_lazy_init\u001b[0;34m()\u001b[0m\n\u001b[1;32m    296\u001b[0m         \u001b[0;32mif\u001b[0m \u001b[0;34m\"CUDA_MODULE_LOADING\"\u001b[0m \u001b[0;32mnot\u001b[0m \u001b[0;32min\u001b[0m \u001b[0mos\u001b[0m\u001b[0;34m.\u001b[0m\u001b[0menviron\u001b[0m\u001b[0;34m:\u001b[0m\u001b[0;34m\u001b[0m\u001b[0;34m\u001b[0m\u001b[0m\n\u001b[1;32m    297\u001b[0m             \u001b[0mos\u001b[0m\u001b[0;34m.\u001b[0m\u001b[0menviron\u001b[0m\u001b[0;34m[\u001b[0m\u001b[0;34m\"CUDA_MODULE_LOADING\"\u001b[0m\u001b[0;34m]\u001b[0m \u001b[0;34m=\u001b[0m \u001b[0;34m\"LAZY\"\u001b[0m\u001b[0;34m\u001b[0m\u001b[0;34m\u001b[0m\u001b[0m\n\u001b[0;32m--> 298\u001b[0;31m         \u001b[0mtorch\u001b[0m\u001b[0;34m.\u001b[0m\u001b[0m_C\u001b[0m\u001b[0;34m.\u001b[0m\u001b[0m_cuda_init\u001b[0m\u001b[0;34m(\u001b[0m\u001b[0;34m)\u001b[0m\u001b[0;34m\u001b[0m\u001b[0;34m\u001b[0m\u001b[0m\n\u001b[0m\u001b[1;32m    299\u001b[0m         \u001b[0;31m# Some of the queued calls may reentrantly call _lazy_init();\u001b[0m\u001b[0;34m\u001b[0m\u001b[0;34m\u001b[0m\u001b[0m\n\u001b[1;32m    300\u001b[0m         \u001b[0;31m# we need to just return without initializing in that case.\u001b[0m\u001b[0;34m\u001b[0m\u001b[0;34m\u001b[0m\u001b[0m\n",
            "\u001b[0;31mRuntimeError\u001b[0m: Found no NVIDIA driver on your system. Please check that you have an NVIDIA GPU and installed a driver from http://www.nvidia.com/Download/index.aspx"
          ]
        }
      ],
      "source": [
        "import os\n",
        "\n",
        "os.environ[\"PYTORCH_CUDA_ALLOC_CONF\"] = \"0:2048\"\n",
        "\n",
        "import torch\n",
        "torch.cuda.empty_cache()\n",
        "torch.cuda.get_device_name(0)"
      ]
    }
  ],
  "metadata": {
    "accelerator": "GPU",
    "colab": {
      "gpuType": "T4",
      "provenance": []
    },
    "kernelspec": {
      "display_name": "Python 3",
      "name": "python3"
    },
    "language_info": {
      "name": "python"
    }
  },
  "nbformat": 4,
  "nbformat_minor": 0
}
